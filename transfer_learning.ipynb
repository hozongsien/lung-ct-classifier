{
 "cells": [
  {
   "cell_type": "code",
   "execution_count": 41,
   "metadata": {
    "id": "TqOt6Sv7AsMi"
   },
   "outputs": [],
   "source": [
    "import matplotlib.pyplot as plt\n",
    "import numpy as np\n",
    "import os\n",
    "import tensorflow as tf\n",
    "import pandas as pd\n",
    "import sklearn as sk\n",
    "import tensorflow_addons as tfa\n",
    "import cv2 as cv"
   ]
  },
  {
   "cell_type": "markdown",
   "metadata": {
    "id": "v77rlkCKW0IJ"
   },
   "source": [
    "# data_preprocessing.py"
   ]
  },
  {
   "cell_type": "code",
   "execution_count": 42,
   "metadata": {},
   "outputs": [],
   "source": [
    "def preprocess(ds, batch_size, ds_type='train'):\n",
    "    AUTOTUNE = tf.data.experimental.AUTOTUNE\n",
    "    num_classes = 3\n",
    "\n",
    "    resize_and_rescale = create_resize_and_rescale_layer()\n",
    "    data_augmentation = create_augmentation_layer()\n",
    "\n",
    "    if ds_type == 'test':\n",
    "        ds = ds.map(lambda ds: (ds['image'], ds['label']))\n",
    "\n",
    "    ds = ds.map(lambda x, y: (resize_and_rescale(x), y), num_parallel_calls=AUTOTUNE) # disable to visualise train/ valid iamges\n",
    "    ds = ds.batch(batch_size)\n",
    "\n",
    "    if ds_type == 'train':\n",
    "        ds = ds.map(lambda x, y: (data_augmentation(x), y), num_parallel_calls=AUTOTUNE)\n",
    "    \n",
    "    if ds_type == 'train' or ds_type == 'valid': \n",
    "        ds = ds.map(lambda x, y: (x, tf.one_hot(y, depth=num_classes)))\n",
    "    \n",
    "    ds = ds.prefetch(buffer_size=AUTOTUNE)\n",
    "    return ds\n",
    "\n",
    "\n",
    "def ensemble_input(ds, ds_type='train'):\n",
    "    AUTOTUNE = tf.data.experimental.AUTOTUNE\n",
    "    if ds_type == 'train' or ds_type == 'valid':\n",
    "        ds = ds.map(lambda x, y: ({ 'ensemble_0_input_2': x, 'ensemble_1_input_2': x, 'ensemble_2_input_2': x}, y))\n",
    "    if ds_type == 'test':\n",
    "        ds = ds.map(lambda ds: ({ 'ensemble_0_input_2': ds['image'], 'ensemble_1_input_2': ds['image'], 'ensemble_2_input_2': ds['image']}, ds['label']))\n",
    "    \n",
    "    ds = ds.prefetch(buffer_size=AUTOTUNE)\n",
    "    return ds\n",
    "\n",
    "\n",
    "def create_resize_and_rescale_layer(): \n",
    "    resize_and_rescale = tf.keras.Sequential([\n",
    "        tf.keras.layers.experimental.preprocessing.Resizing(IMG_SIZE[0], IMG_SIZE[1], interpolation='bilinear'),\n",
    "        tf.keras.layers.experimental.preprocessing.Rescaling(1./127.5, offset= -1)\n",
    "    ], name='resize_and_rescale')\n",
    "    return resize_and_rescale\n",
    "\n",
    "\n",
    "def create_augmentation_layer():\n",
    "    data_augmentation = tf.keras.Sequential([\n",
    "        tf.keras.layers.experimental.preprocessing.RandomFlip(),\n",
    "        tf.keras.layers.experimental.preprocessing.RandomRotation(0.2),\n",
    "        # tf.keras.layers.experimental.preprocessing.RandomContrast(factor=0.1),\n",
    "        # RandomInvert(),\n",
    "        # RandomSheer(),\n",
    "        # RandomGaussionFilter(),\n",
    "    ], name='data_augmentation')\n",
    "    return data_augmentation\n",
    "\n",
    "\n",
    "def make_generator(seed=None):\n",
    "    if seed:\n",
    "        return tf.random.Generator.from_seed(seed)\n",
    "    else:\n",
    "        return tf.random.Generator.from_non_deterministic_state()\n",
    "\n",
    "\n",
    "def random_invert_img(x, p=0.5):\n",
    "    if tf.random.uniform([]) < p:\n",
    "        x = (255-x)\n",
    "    else:\n",
    "        x\n",
    "    return x\n",
    "\n",
    "\n",
    "class RandomInvert(tf.keras.layers.Layer):\n",
    "    def __init__(self, factor=0.5, **kwargs):\n",
    "        super().__init__(**kwargs)\n",
    "        self.factor = factor\n",
    "    \n",
    "    def call(self, x):\n",
    "        return random_invert_img(x)\n",
    "\n",
    "\n",
    "\n",
    "class RandomSheer(tf.keras.layers.Layer):\n",
    "    def __init__(self, seed=None, **kwargs):\n",
    "        super().__init__(**kwargs)\n",
    "        self.rng = make_generator(seed)\n",
    "\n",
    "\n",
    "    def call(self, x):\n",
    "        x_level = self.rng.uniform(shape=[], minval=0.1, maxval=0.35)\n",
    "        y_level = self.rng.uniform(shape=[], minval=0.1, maxval=0.35)\n",
    "\n",
    "        x = tfa.image.shear_x(x, x_level, 0)\n",
    "        x = tfa.image.shear_y(x, y_level, 0)\n",
    "        return x\n",
    "\n",
    "\n",
    "class RandomGaussionFilter(tf.keras.layers.Layer):\n",
    "    def __init__(self, seed=None, **kwargs):\n",
    "        super().__init__(**kwargs)\n",
    "\n",
    "\n",
    "    def call(self, x):\n",
    "        k = np.random.randint(3, 11)\n",
    "        sigma = np.random.uniform(low=0.1, high=0.9)\n",
    "        x = tfa.image.gaussian_filter2d(x, filter_shape=(k, k), sigma=sigma)\n",
    "        return x\n",
    "\n",
    "\n",
    "def plot(acc, val_acc, loss, val_loss, initial_epochs=0):\n",
    "    plt.figure(figsize=(8, 8))\n",
    "    plt.subplot(2, 1, 1)\n",
    "    plt.plot(acc, label='Training Accuracy')\n",
    "    plt.plot(val_acc, label='Validation Accuracy')\n",
    "    plt.legend(loc='lower right')\n",
    "    plt.ylabel('Accuracy')\n",
    "    plt.ylim([min(plt.ylim()), 1.0])\n",
    "    plt.title('Training and Validation Accuracy')\n",
    "    if initial_epochs != 0:\n",
    "        plt.plot([initial_epochs-1,initial_epochs-1],\n",
    "            plt.ylim(), label='Start Fine Tuning')\n",
    "\n",
    "    plt.subplot(2, 1, 2)\n",
    "    plt.plot(loss, label='Training Loss')\n",
    "    plt.plot(val_loss, label='Validation Loss')\n",
    "    plt.legend(loc='upper right')\n",
    "    plt.ylabel('Cross Entropy')\n",
    "    plt.ylim([0, 1.0])\n",
    "    plt.title('Training and Validation Loss')\n",
    "    plt.xlabel('epoch')\n",
    "    if initial_epochs != 0:\n",
    "        plt.plot([initial_epochs-1,initial_epochs-1],\n",
    "            plt.ylim(), label='Start Fine Tuning')\n",
    "    plt.show()\n",
    "\n",
    "\n",
    "def save_results(save_path, image_ids, predicted_labels):\n",
    "    results = image_ids.drop('image', axis=1)\n",
    "    results.columns = ['ID', 'Label']\n",
    "    results['Label'] = predicted_labels \n",
    "    results = results.sort_values('ID').reset_index(drop=True)\n",
    "    results.to_csv(RESULT_SAVE_PATH, index=False)"
   ]
  },
  {
   "cell_type": "markdown",
   "metadata": {},
   "source": [
    "# model.py"
   ]
  },
  {
   "cell_type": "code",
   "execution_count": 43,
   "metadata": {},
   "outputs": [],
   "source": [
    "class AdaptiveConcatPooling(tf.keras.layers.Layer):\n",
    "    def __init__(self):\n",
    "        super(AdaptiveConcatPooling, self).__init__()\n",
    "\n",
    "    \n",
    "    def call(self, x):\n",
    "        output_size = (x.shape[1], x.shape[2])\n",
    "        avg_pool = tfa.layers.AdaptiveAveragePooling2D(output_size)(x)\n",
    "        max_pool = tfa.layers.AdaptiveMaxPooling2D(output_size)(x)\n",
    "        return tf.concat([avg_pool, max_pool], axis=1)\n",
    "\n",
    "\n",
    "def create_base_model(img_shape, model_type='xception'):\n",
    "    if model_type == 'mobile':\n",
    "        base_model = tf.keras.applications.MobileNetV2(\n",
    "            input_shape=img_shape,\n",
    "            include_top=False,\n",
    "            weights='imagenet'\n",
    "        )\n",
    "    elif model_type == 'xception':\n",
    "        base_model = tf.keras.applications.Xception(\n",
    "            input_shape=img_shape,\n",
    "            include_top=False,\n",
    "            weights='imagenet',\n",
    "        )\n",
    "    elif model_type == 'res':\n",
    "        base_model = tf.keras.applications.ResNet152V2(\n",
    "            input_shape=img_shape,\n",
    "            include_top=False,\n",
    "            weights='imagenet',\n",
    "        )\n",
    "    else:\n",
    "        raise RuntimeError(f'model_type={model_type} unsupported')\n",
    "\n",
    "    base_model.trainable = False\n",
    "    return base_model\n",
    "\n",
    "\n",
    "def create_prediction_layer(num_classes, hyperparams, head_type='standard'):\n",
    "    if head_type == 'standard':\n",
    "        prediction = tf.keras.Sequential([\n",
    "            tf.keras.layers.GlobalAveragePooling2D(),\n",
    "            tf.keras.layers.Dropout(hyperparams['dropout']),\n",
    "            tf.keras.layers.Dense(num_classes, name='logits'),\n",
    "            tf.keras.layers.Activation('softmax', dtype='float32', name='probs'), # separate activation layer for mixed precision support \n",
    "        ], name='prediction')\n",
    "    elif head_type == 'adaptive':\n",
    "        prediction = tf.keras.Sequential([\n",
    "            AdaptiveConcatPooling(),\n",
    "            tf.keras.layers.Flatten(),\n",
    "            tf.keras.layers.BatchNormalization(),\n",
    "            tf.keras.layers.Dropout(0.75),\n",
    "            tf.keras.layers.Dense(num_classes, name='logits'),\n",
    "            tf.keras.layers.Activation('softmax', dtype='float32', name='probs'),\n",
    "        ], name='prediction')\n",
    "    else:\n",
    "        raise RuntimeError(f'head_type={head_type} unsupported')\n",
    "    \n",
    "    return prediction\n",
    "\n",
    "\n",
    "def create_model(image_shape, num_classes, hyperparams):\n",
    "    base_model = create_base_model(image_shape)\n",
    "    prediction_layer = create_prediction_layer(num_classes, hyperparams)\n",
    "\n",
    "    inputs = tf.keras.Input(shape=image_shape)\n",
    "    x = base_model(inputs, training=False)\n",
    "    outputs = prediction_layer(x)\n",
    "    model = tf.keras.Model(inputs, outputs)\n",
    "    return model\n",
    "\n",
    "\n",
    "def create_fine_tune_model(model, hyperparams):\n",
    "    print(\"Number of layers in the base model: \", len(model.layers[1].layers))\n",
    "    model.layers[1].trainable = True\n",
    "    for layer in model.layers[1].layers[:hyperparams['fine_tune_at']]:\n",
    "        layer.trainable = False\n",
    "\n",
    "    return model\n",
    "\n",
    "\n",
    "def load_ensmble_models():\n",
    "    filenames = ['Xception09.1-1_fold', 'MobileNet03-1_fold', 'ResNet03-1_fold']\n",
    "    models = []\n",
    "    for i, name in enumerate(filenames):\n",
    "        model = tf.keras.models.load_model(os.path.join('models', name, '.h5'))\n",
    "        for layer in model.layers:\n",
    "            layer.trainable = False\n",
    "            layer._name = f'ensemble_{i}_{layer.name}'\n",
    "        models.append(model)\n",
    "    return models\n",
    "\n",
    "\n",
    "def create_ensemble_prediction_layer():\n",
    "    prediction = tf.keras.Sequential([\n",
    "        tf.keras.layers.Dense(10, activation='relu'),\n",
    "        tf.keras.layers.Dense(3, name='logits'),\n",
    "        tf.keras.layers.Activation('softmax', dtype='float32', name='probs'),\n",
    "    ], name='prediction')\n",
    "    return prediction\n",
    "\n",
    "    \n",
    "def create_ensemble_model():\n",
    "    models = load_ensmble_models()\n",
    "    prediction_layer = create_ensemble_prediction_layer()\n",
    "    \n",
    "    ensemble_inputs = [model.input for model in models]\n",
    "    ensemble_outputs = [model.output for model in models]\n",
    "    concat = tf.keras.layers.concatenate(ensemble_outputs)\n",
    "    outputs = prediction_layer(concat)\n",
    "    model = tf.keras.Model(inputs=ensemble_inputs, outputs=outputs)\n",
    "    return model\n",
    "    "
   ]
  },
  {
   "cell_type": "markdown",
   "metadata": {},
   "source": [
    "# train.py"
   ]
  },
  {
   "cell_type": "code",
   "execution_count": 44,
   "metadata": {},
   "outputs": [],
   "source": [
    "def train_validate(model, train_ds, valid_ds, hyperparams, initial_epoch, num_epochs):\n",
    "    tf.keras.backend.clear_session()\n",
    "    tensorboard_callback = tf.keras.callbacks.TensorBoard(log_dir='logs')\n",
    "    \n",
    "    model.compile(\n",
    "        optimizer=tf.keras.optimizers.Adam(\n",
    "            learning_rate=hyperparams['learning_rate']\n",
    "        ),\n",
    "        loss=tf.keras.losses.CategoricalCrossentropy(\n",
    "            label_smoothing=0.1\n",
    "        ),\n",
    "        metrics=['accuracy']\n",
    "    )\n",
    "    history = model.fit(\n",
    "        train_ds,\n",
    "        validation_data=valid_ds,\n",
    "        initial_epoch=initial_epoch,\n",
    "        epochs=num_epochs,\n",
    "        callbacks=[tensorboard_callback],\n",
    "    )\n",
    "    return model, history"
   ]
  },
  {
   "cell_type": "markdown",
   "metadata": {},
   "source": [
    "# main.py"
   ]
  },
  {
   "cell_type": "code",
   "execution_count": 45,
   "metadata": {},
   "outputs": [],
   "source": [
    "# pre pre-process images\n",
    "# python preprocess.py\n",
    "\n",
    "# Build dataset\n",
    "# python -m tensorflow_datasets.scripts.download_and_prepare --datasets=mri_dataset --module_import=datasets.mri_dataset --manual_dir=data/processed --data_dir=data/"
   ]
  },
  {
   "cell_type": "code",
   "execution_count": 46,
   "metadata": {},
   "outputs": [],
   "source": [
    "# def hist_norm(img):\n",
    "#     gray_img = cv.cvtColor(img, cv.COLOR_BGR2GRAY)\n",
    "#     norm_gray_img = cv.equalizeHist(gray_img)\n",
    "#     norm_img = cv.cvtColor(norm_gray_img, cv.COLOR_GRAY2RGB)\n",
    "#     return norm_img\n",
    "\n",
    "\n",
    "# def clahe(img, clipLimit=4, tileGridSize=(40, 40)):\n",
    "#     clahe = cv.createCLAHE(clipLimit, tileGridSize)\n",
    "#     gray_img = cv.cvtColor(img, cv.COLOR_BGR2GRAY)\n",
    "#     cl_img = clahe.apply(gray_img)\n",
    "#     cl_img = cv.cvtColor(cl_img, cv.COLOR_GRAY2RGB)\n",
    "#     return cl_img\n",
    "\n",
    "\n",
    "# data_folder = 'data'\n",
    "# raw_folder = 'raw'\n",
    "# processed_folder = 'processed'\n",
    "# dataset = 'mri_dataset'\n",
    "# train_folder = 'train'\n",
    "# test_folder = 'test'\n",
    "# train_label = 'train_label.csv'\n",
    "\n",
    "# img_path = os.path.join(data_folder, raw_folder, train_folder, '851.png')\n",
    "# img = cv.imread(img_path)\n",
    "# n_img = hist_norm(img)\n",
    "# clahe_img1 = clahe(img, clipLimit=8, tileGridSize=(32, 32))\n",
    "# clahe_img2 = clahe(img, clipLimit=8, tileGridSize=(8, 8))\n",
    "\n",
    "# # n_clahe_img = clahe(n_img, clipLimit=clip, tileGridSize=tile_size)\n",
    "# combined_imgs = np.hstack((img, clahe_img1, clahe_img2))\n",
    "# plt.figure(figsize=(20, 20))\n",
    "# plt.imshow(combined_imgs)"
   ]
  },
  {
   "cell_type": "markdown",
   "metadata": {},
   "source": [
    "## GPU Setup"
   ]
  },
  {
   "cell_type": "code",
   "execution_count": 47,
   "metadata": {},
   "outputs": [],
   "source": [
    "physical_devices = tf.config.list_physical_devices('GPU')\n",
    "try:\n",
    "  # Disable first GPU\n",
    "  tf.config.set_visible_devices(physical_devices[1:], 'GPU')\n",
    "  logical_devices = tf.config.list_logical_devices('GPU')\n",
    "  # Logical device was not created for first GPU\n",
    "  assert len(logical_devices) == len(physical_devices) - 1\n",
    "except:\n",
    "  # Invalid device or cannot modify virtual devices once initialized.\n",
    "  pass"
   ]
  },
  {
   "cell_type": "markdown",
   "metadata": {},
   "source": [
    "## Enable Mixed Precision"
   ]
  },
  {
   "cell_type": "code",
   "execution_count": 48,
   "metadata": {},
   "outputs": [],
   "source": [
    "from tensorflow.keras.mixed_precision import experimental as mixed_precision\n",
    "\n",
    "policy = mixed_precision.Policy('mixed_float16')\n",
    "mixed_precision.set_policy(policy)"
   ]
  },
  {
   "cell_type": "markdown",
   "metadata": {},
   "source": [
    "## Load Dataset"
   ]
  },
  {
   "cell_type": "code",
   "execution_count": 49,
   "metadata": {},
   "outputs": [],
   "source": [
    "import tensorflow_datasets as tfds\n",
    "from datasets.mri_dataset import MriDataset\n",
    "from tensorflow.data import Dataset\n",
    "from tensorflow.keras.callbacks import TensorBoard\n",
    "\n",
    "\n",
    "data_folder = 'data'\n",
    "raw_folder = 'raw'\n",
    "processed_folder = 'processed'\n",
    "dataset = 'mri_dataset'\n",
    "train_folder = 'train'\n",
    "test_folder = 'test'\n",
    "train_label = 'train_label.csv'\n",
    "\n",
    "RESULT_SAVE_PATH = 'submission.csv'\n",
    "TRAIN_BATCH_SIZE = 64\n",
    "VALID_BATCH_SIZE = 64\n",
    "TEST_BATCH_SIZE = 64\n",
    "IMG_SIZE = (512, 512)\n",
    "IMG_SHAPE = IMG_SIZE + (3,)\n",
    "SEED = 0\n",
    "AUTOTUNE = tf.data.experimental.AUTOTUNE\n",
    "\n",
    "\n",
    "tf.random.set_seed(SEED)\n",
    "num_classes = 3\n",
    "\n",
    "train_folds = tfds.load(\n",
    "    name='mri_dataset', \n",
    "    split=[f'train[:{k}%]+train[{k+10}%:]' for k in range(0, 100, 20)],\n",
    "    download=False, \n",
    "    shuffle_files=False, \n",
    "    as_supervised=True,\n",
    "    data_dir=data_folder\n",
    ")\n",
    "valid_folds = tfds.load(\n",
    "    name='mri_dataset', \n",
    "    split=[f'train[{k}%:{k+10}%]' for k in range(0, 100, 20)],\n",
    "    download=False, \n",
    "    shuffle_files=False, \n",
    "    as_supervised=True,\n",
    "    data_dir=data_folder\n",
    ")\n",
    "test_ds_raw, test_info_raw = tfds.load(\n",
    "    name='mri_dataset', \n",
    "    split='test', \n",
    "    download=False, \n",
    "    shuffle_files=False, \n",
    "    as_supervised=False, \n",
    "    with_info=True,\n",
    "    data_dir=data_folder\n",
    ")\n",
    "\n",
    "AUTOTUNE = tf.data.experimental.AUTOTUNE\n",
    "train_folds = [ preprocess(ds, batch_size=TRAIN_BATCH_SIZE, ds_type='train') for ds in train_folds ]\n",
    "valid_folds = [ preprocess(ds, batch_size=VALID_BATCH_SIZE, ds_type='valid') for ds in valid_folds ]\n",
    "test_ds = preprocess(test_ds_raw, batch_size=TEST_BATCH_SIZE, ds_type='test')"
   ]
  },
  {
   "cell_type": "code",
   "execution_count": 50,
   "metadata": {},
   "outputs": [
    {
     "output_type": "stream",
     "name": "stdout",
     "text": [
      "Number of train batches: 17\nNumber of valid batches: 2\nNumber of test batches: 5\n"
     ]
    }
   ],
   "source": [
    "train_valid_df = pd.read_csv(os.path.join(data_folder, processed_folder, train_label))\n",
    "train_ds = train_folds[0]\n",
    "valid_ds = valid_folds[0]\n",
    "\n",
    "print(f'Number of train batches: {train_ds.cardinality()}')\n",
    "print(f'Number of valid batches: {valid_ds.cardinality()}')\n",
    "print(f'Number of test batches: {test_ds.cardinality()}')"
   ]
  },
  {
   "cell_type": "markdown",
   "metadata": {},
   "source": [
    "## Visualise Dataset"
   ]
  },
  {
   "cell_type": "code",
   "execution_count": 51,
   "metadata": {
    "id": "K5BeQyKThC_Y"
   },
   "outputs": [],
   "source": [
    "# # disable image resize and rescale in preprocess function ONLY for visualisation\n",
    "# # Train Data\n",
    "# plt.figure(figsize=(10, 10))\n",
    "# for images, labels in train_ds.take(9):\n",
    "#     for i in range(9):\n",
    "#       ax = plt.subplot(3, 3, i + 1)\n",
    "#       plt.imshow(images[i].numpy().astype(\"uint8\"))\n",
    "#       plt.title(labels[i].numpy())\n",
    "#       plt.axis(\"off\")"
   ]
  },
  {
   "cell_type": "code",
   "execution_count": 52,
   "metadata": {},
   "outputs": [],
   "source": [
    "# # Test Data\n",
    "# plt.figure(figsize=(10, 10))\n",
    "# for i, ds in enumerate(test_ds_raw.take(9)):\n",
    "#     ax = plt.subplot(3, 3, i + 1)\n",
    "#     plt.imshow(ds['image'].numpy().astype(\"uint8\"))\n",
    "#     plt.title('ID: {}'.format(ds['id'].numpy()))\n",
    "#     plt.axis(\"off\")"
   ]
  },
  {
   "cell_type": "code",
   "execution_count": 53,
   "metadata": {
    "id": "aQullOUHkm67"
   },
   "outputs": [],
   "source": [
    "# TODO: Fix visualisation\n",
    "# data_augmentation = create_augmentation_layer()\n",
    "\n",
    "# for image, _ in train_ds.take(1):\n",
    "#   plt.figure(figsize=(10, 10))\n",
    "#   first_image = image[0]\n",
    "#   for i in range(9):\n",
    "#     ax = plt.subplot(3, 3, i + 1)\n",
    "#     augmented_image = data_augmentation(tf.expand_dims(first_image, 0))\n",
    "#     plt.imshow(augmented_image[0] / 255)\n",
    "#     plt.axis('off')"
   ]
  },
  {
   "cell_type": "markdown",
   "metadata": {},
   "source": [
    "## Train and Validate"
   ]
  },
  {
   "cell_type": "code",
   "execution_count": 54,
   "metadata": {},
   "outputs": [],
   "source": [
    "# tf.random.set_seed(SEED)\n",
    "# hyperparams = {\n",
    "#     'initial_epochs': 150,\n",
    "#     'learning_rate': 1e-4,\n",
    "#     'label_smoothing': 0.1,\n",
    "# }\n",
    "# experiment_name = f'Ensemble02'\n",
    "\n",
    "\n",
    "# ensemble_model = create_ensemble_model()\n",
    "# train_ds = ensemble_input(train_folds[3], ds_type='train')\n",
    "# valid_ds = ensemble_input(valid_folds[3], ds_type='valid')\n",
    "# ensemble_model = train_validate(ensemble_model, train_ds, valid_ds, hyperparams, experiment_name)\n"
   ]
  },
  {
   "cell_type": "code",
   "execution_count": 55,
   "metadata": {},
   "outputs": [],
   "source": [
    "# test_ds = ensemble_input(test_ds, ds_type='train')\n",
    "# predictions = ensemble_model.predict(test_ds)\n",
    "# predicted_indices = tf.argmax(predictions, 1)\n",
    "# predicted_labels = predicted_indices.numpy()\n",
    "# img_ids = tfds.as_dataframe(test_ds_raw, test_info_raw)\n",
    "# save_results('Ensemble02_submission.csv', img_ids, predicted_labels)\n",
    "# print('done')"
   ]
  },
  {
   "cell_type": "code",
   "execution_count": 57,
   "metadata": {},
   "outputs": [
    {
     "output_type": "stream",
     "name": "stdout",
     "text": [
      " 2/17 [==>...........................] - ETA: 6s - loss: 1.0977 - accuracy: 0.3359WARNING:tensorflow:Callbacks method `on_train_batch_end` is slow compared to the batch time (batch time: 0.2258s vs `on_train_batch_end` time: 0.6747s). Check your callbacks.\n",
      "WARNING:tensorflow:Callbacks method `on_train_batch_end` is slow compared to the batch time (batch time: 0.2258s vs `on_train_batch_end` time: 0.6747s). Check your callbacks.\n",
      "17/17 [==============================] - 5s 290ms/step - loss: 1.0605 - accuracy: 0.4294 - val_loss: 1.0630 - val_accuracy: 0.3879\n",
      "Number of layers in the base model:  132\n",
      "Epoch 2/2\n",
      "17/17 [==============================] - 8s 453ms/step - loss: 0.9576 - accuracy: 0.5200 - val_loss: 0.9501 - val_accuracy: 0.4655\n"
     ]
    }
   ],
   "source": [
    "tf.random.set_seed(SEED)\n",
    "base_hyperparams = {\n",
    "    'num_epochs': 1,\n",
    "    'learning_rate': 1e-4,\n",
    "    'dropout': 0.2\n",
    "}\n",
    "fine_hyperparams = {\n",
    "    'num_epochs': 1,\n",
    "    'learning_rate': 1e-5,\n",
    "    'fine_tune_at': 100,\n",
    "}\n",
    "\n",
    "\n",
    "model = create_model(IMG_SHAPE, num_classes, base_hyperparams)\n",
    "model, history = train_validate(\n",
    "    model=model, \n",
    "    train_ds=train_ds, \n",
    "    valid_ds=valid_ds, \n",
    "    hyperparams=base_hyperparams, \n",
    "    initial_epoch=0, \n",
    "    num_epochs=base_hyperparams['num_epochs']\n",
    ")\n",
    "\n",
    "model = create_fine_tune_model(model, fine_hyperparams)\n",
    "model, history = train_validate(\n",
    "    model=model, \n",
    "    train_ds=train_ds, \n",
    "    valid_ds=valid_ds, \n",
    "    hyperparams=fine_hyperparams, \n",
    "    initial_epoch=base_hyperparams['num_epochs'], \n",
    "    num_epochs=base_hyperparams['num_epochs'] + fine_hyperparams['num_epochs']\n",
    ")"
   ]
  },
  {
   "cell_type": "code",
   "execution_count": 16,
   "metadata": {
    "tags": []
   },
   "outputs": [
    {
     "name": "stdout",
     "output_type": "stream",
     "text": [
      "# -------------------- 1 fold -------------------- #\n",
      "1 fold pre train:\n",
      "Model: \"functional_1\"\n",
      "_________________________________________________________________\n",
      "Layer (type)                 Output Shape              Param #   \n",
      "=================================================================\n",
      "input_2 (InputLayer)         [(None, 512, 512, 3)]     0         \n",
      "_________________________________________________________________\n",
      "resnet152v2 (Functional)     (None, 16, 16, 2048)      58331648  \n",
      "_________________________________________________________________\n",
      "prediction (Sequential)      (None, 3)                 6147      \n",
      "=================================================================\n",
      "Total params: 58,337,795\n",
      "Trainable params: 6,147\n",
      "Non-trainable params: 58,331,648\n",
      "_________________________________________________________________\n",
      "None\n",
      " 1/17 [>.............................] - ETA: 0s - loss: 1.6073 - accuracy: 0.1562WARNING:tensorflow:From /home/zongsien/MedicalImageClassifier/env/lib/python3.7/site-packages/tensorflow/python/ops/summary_ops_v2.py:1277: stop (from tensorflow.python.eager.profiler) is deprecated and will be removed after 2020-07-01.\n",
      "Instructions for updating:\n",
      "use `tf.profiler.experimental.stop` instead.\n"
     ]
    },
    {
     "name": "stderr",
     "output_type": "stream",
     "text": [
      "WARNING:tensorflow:From /home/zongsien/MedicalImageClassifier/env/lib/python3.7/site-packages/tensorflow/python/ops/summary_ops_v2.py:1277: stop (from tensorflow.python.eager.profiler) is deprecated and will be removed after 2020-07-01.\n",
      "Instructions for updating:\n",
      "use `tf.profiler.experimental.stop` instead.\n"
     ]
    },
    {
     "name": "stdout",
     "output_type": "stream",
     "text": [
      "17/17 [==============================] - 13s 771ms/step - loss: 1.3062 - accuracy: 0.3120 - val_loss: 1.0916 - val_accuracy: 0.4052\n",
      "\n"
     ]
    },
    {
     "data": {
      "image/png": "[encoded data removed]",
      "text/plain": [
       "<Figure size 576x576 with 2 Axes>"
      ]
     },
     "metadata": {
      "needs_background": "light"
     },
     "output_type": "display_data"
    },
    {
     "name": "stdout",
     "output_type": "stream",
     "text": [
      "\n",
      "1 fold fine train:\n",
      "Number of layers in the base model:  564\n",
      "Model: \"functional_1\"\n",
      "_________________________________________________________________\n",
      "Layer (type)                 Output Shape              Param #   \n",
      "=================================================================\n",
      "input_2 (InputLayer)         [(None, 512, 512, 3)]     0         \n",
      "_________________________________________________________________\n",
      "resnet152v2 (Functional)     (None, 16, 16, 2048)      58331648  \n",
      "_________________________________________________________________\n",
      "prediction (Sequential)      (None, 3)                 6147      \n",
      "=================================================================\n",
      "Total params: 58,337,795\n",
      "Trainable params: 56,400,643\n",
      "Non-trainable params: 1,937,152\n",
      "_________________________________________________________________\n",
      "None\n",
      " 2/17 [==>...........................] - ETA: 27s - loss: 1.5233 - accuracy: 0.3438WARNING:tensorflow:Callbacks method `on_train_batch_end` is slow compared to the batch time (batch time: 0.8958s vs `on_train_batch_end` time: 2.7082s). Check your callbacks.\n"
     ]
    },
    {
     "name": "stderr",
     "output_type": "stream",
     "text": [
      "WARNING:tensorflow:Callbacks method `on_train_batch_end` is slow compared to the batch time (batch time: 0.8958s vs `on_train_batch_end` time: 2.7082s). Check your callbacks.\n"
     ]
    },
    {
     "name": "stdout",
     "output_type": "stream",
     "text": [
      "17/17 [==============================] - 23s 1s/step - loss: 0.8954 - accuracy: 0.6202 - val_loss: 0.6307 - val_accuracy: 0.8017\n",
      "\n"
     ]
    },
    {
     "data": {
      "image/png": "[encoded data removed]",
      "text/plain": [
       "<Figure size 576x576 with 2 Axes>"
      ]
     },
     "metadata": {
      "needs_background": "light"
     },
     "output_type": "display_data"
    },
    {
     "name": "stdout",
     "output_type": "stream",
     "text": [
      "\n",
      "1 fold | Train Loss: 0.8953506350517273 | Train Accuracy: 0.6202290058135986 | Validation Loss: 0.6306827664375305 | Validation Accuracy: 0.8017241358757019\n",
      "\n",
      "Saving model\n",
      "\n",
      "WARNING:tensorflow:From /home/zongsien/MedicalImageClassifier/env/lib/python3.7/site-packages/tensorflow/python/training/tracking/tracking.py:111: Model.state_updates (from tensorflow.python.keras.engine.training) is deprecated and will be removed in a future version.\n",
      "Instructions for updating:\n",
      "This property should not be used in TensorFlow 2.0, as updates are applied automatically.\n"
     ]
    },
    {
     "name": "stderr",
     "output_type": "stream",
     "text": [
      "WARNING:tensorflow:From /home/zongsien/MedicalImageClassifier/env/lib/python3.7/site-packages/tensorflow/python/training/tracking/tracking.py:111: Model.state_updates (from tensorflow.python.keras.engine.training) is deprecated and will be removed in a future version.\n",
      "Instructions for updating:\n",
      "This property should not be used in TensorFlow 2.0, as updates are applied automatically.\n"
     ]
    },
    {
     "name": "stdout",
     "output_type": "stream",
     "text": [
      "WARNING:tensorflow:From /home/zongsien/MedicalImageClassifier/env/lib/python3.7/site-packages/tensorflow/python/training/tracking/tracking.py:111: Layer.updates (from tensorflow.python.keras.engine.base_layer) is deprecated and will be removed in a future version.\n",
      "Instructions for updating:\n",
      "This property should not be used in TensorFlow 2.0, as updates are applied automatically.\n"
     ]
    },
    {
     "name": "stderr",
     "output_type": "stream",
     "text": [
      "WARNING:tensorflow:From /home/zongsien/MedicalImageClassifier/env/lib/python3.7/site-packages/tensorflow/python/training/tracking/tracking.py:111: Layer.updates (from tensorflow.python.keras.engine.base_layer) is deprecated and will be removed in a future version.\n",
      "Instructions for updating:\n",
      "This property should not be used in TensorFlow 2.0, as updates are applied automatically.\n"
     ]
    },
    {
     "name": "stdout",
     "output_type": "stream",
     "text": [
      "INFO:tensorflow:Assets written to: models/ResNet03.1-1_fold/.h5/assets\n"
     ]
    },
    {
     "name": "stderr",
     "output_type": "stream",
     "text": [
      "INFO:tensorflow:Assets written to: models/ResNet03.1-1_fold/.h5/assets\n"
     ]
    },
    {
     "name": "stdout",
     "output_type": "stream",
     "text": [
      "Avg Train Loss: 0.8953506350517273 | Avg Train Accuracy: 0.6202290058135986 | Avg Validation Loss: 0.6306827664375305 | Avg Validation Accuracy: 0.8017241358757019\n",
      "CPU times: user 8min 52s, sys: 52 s, total: 9min 44s\n",
      "Wall time: 3min 4s\n"
     ]
    }
   ],
   "source": [
    "%%time\n",
    "\n",
    "tf.random.set_seed(SEED)\n",
    "hyperparams = {\n",
    "    'initial_epochs': 300,\n",
    "    'fine_epochs': 150,\n",
    "    'learning_rate': 1e-4,\n",
    "    'fine_learning_rate': 1e-5,\n",
    "    'label_smoothing': 0.1,\n",
    "    'fine_tune_at': 100,\n",
    "    'dropout': 0.2\n",
    "}\n",
    "\n",
    "train_accs, valid_accs, train_losses, valid_losses = [], [], [], []\n",
    "for i, (train_ds, valid_ds) in enumerate(zip(train_folds, valid_folds)):\n",
    "    k = i + 1\n",
    "    experiment_name = f'ResNet03.1-{k}_fold'\n",
    "    print(f'# -------------------- {k} fold -------------------- #')\n",
    "    model = create_model(IMG_SHAPE, num_classes)\n",
    "    \n",
    "    print(f'{k} fold pre train:') \n",
    "    model, history = compile_and_fit(model, train_ds, valid_ds, hyperparams, name=experiment_name)\n",
    "    print()\n",
    "\n",
    "    acc = history.history['accuracy']\n",
    "    val_acc = history.history['val_accuracy']\n",
    "    loss = history.history['loss']\n",
    "    val_loss = history.history['val_loss']\n",
    "    plot(acc, val_acc, loss, val_loss)\n",
    "    print()\n",
    "\n",
    "    print(f'{k} fold fine train:')\n",
    "    model = create_fine_tune_model(model, fine_tune_at=hyperparams['fine_tune_at'])\n",
    "    model, history_fine = compile_and_fit(model, train_ds, valid_ds, hyperparams, start_epoch=history.epoch[-1], name=experiment_name)\n",
    "    print()\n",
    "\n",
    "    acc += history_fine.history['accuracy']\n",
    "    val_acc += history_fine.history['val_accuracy']\n",
    "    loss += history_fine.history['loss']\n",
    "    val_loss += history_fine.history['val_loss']\n",
    "    plot(acc, val_acc, loss, val_loss, initial_epochs=hyperparams['initial_epochs']+1)\n",
    "    print()\n",
    "\n",
    "    # record accuracy\n",
    "    train_acc = history.history['accuracy'][-1]\n",
    "    valid_acc = history.history['val_accuracy'][-1]\n",
    "    train_loss = history.history['loss'][-1]\n",
    "    valid_loss = history.history['val_loss'][-1]\n",
    "\n",
    "    train_accs.append(train_acc)\n",
    "    valid_accs.append(valid_acc)\n",
    "    train_losses.append(train_loss)\n",
    "    valid_losses.append(valid_loss)\n",
    "    print(f'{k} fold | Train Loss: {train_loss} | Train Accuracy: {train_acc} | Validation Loss: {valid_loss} | Validation Accuracy: {valid_acc}\\n')\n",
    "\n",
    "#     print('Saving model\\n')\n",
    "#     filename = os.path.join('models', experiment_name, '.h5')\n",
    "#     model.save(filename)\n",
    "\n",
    "# average accuracy\n",
    "avg_train_acc = np.mean(train_accs)\n",
    "avg_valid_acc = np.mean(valid_accs)\n",
    "avg_train_loss = np.mean(train_loss)\n",
    "avg_valid_loss = np.mean(valid_loss)\n",
    "\n",
    "print(f'Avg Train Loss: {avg_train_loss} | Avg Train Accuracy: {avg_train_acc} | Avg Validation Loss: {avg_valid_loss} | Avg Validation Accuracy: {avg_valid_acc}')"
   ]
  },
  {
   "cell_type": "markdown",
   "metadata": {
    "id": "R6cWgjgfrsn5"
   },
   "source": [
    "## Predict"
   ]
  },
  {
   "cell_type": "code",
   "execution_count": 17,
   "metadata": {
    "id": "RUNoQNgtfNgt"
   },
   "outputs": [],
   "source": [
    "# TODO: analyse predicted results\n",
    "# image_batch, label_batch = valid_ds.as_numpy_iterator().next()\n",
    "# predictions = model.predict_on_batch(image_batch)\n",
    "# predicted_indices = tf.argmax(predictions, 1)\n",
    "# predicted_labels = predicted_indices.numpy()\n",
    "\n",
    "\n",
    "# plt.figure(figsize=(10, 10))\n",
    "# for i in range(9):\n",
    "#   ax = plt.subplot(3, 3, i + 1)\n",
    "#   plt.imshow(image_batch[i].astype(\"uint8\"))\n",
    "#   plt.title(f'pred: {predicted_labels[i]} true: {label_batch[i]}')\n",
    "#   plt.axis(\"off\")"
   ]
  },
  {
   "cell_type": "markdown",
   "metadata": {},
   "source": [
    "## Evaluate"
   ]
  },
  {
   "cell_type": "code",
   "execution_count": 18,
   "metadata": {},
   "outputs": [
    {
     "data": {
      "text/plain": [
       "array([2, 1, 1, 0, 2, 0, 2, 0, 1, 2, 1, 1, 1, 0, 1, 2, 2, 1, 1, 0, 1, 0,\n",
       "       0, 0, 1, 1, 0, 1, 2, 0, 0, 0, 1, 0, 1, 0, 2, 0, 1, 2, 1, 1, 2, 2,\n",
       "       0, 0, 2, 2, 2, 0, 1, 2, 1, 0, 1, 0, 2, 2, 1, 2, 1, 2, 1, 0, 2, 1,\n",
       "       1, 0, 0, 1, 0, 1, 0, 1, 1, 1, 2, 1, 2, 0, 0, 0, 1, 2, 0, 0, 0, 1,\n",
       "       2, 2, 0, 2, 2, 0, 1, 0, 2, 0, 2, 1, 0, 1, 0, 1, 0, 1, 0, 0, 2, 2,\n",
       "       1, 0, 2, 1, 1, 1, 2, 1, 1, 1, 1, 0, 2, 2, 1, 0, 2, 0, 1, 1, 2, 0,\n",
       "       1, 1, 1, 1, 0, 1, 2, 0, 2, 1, 2, 2, 1, 1, 2, 2, 2, 1, 2, 0, 1, 2,\n",
       "       1, 0, 2, 0, 1, 2, 0, 0, 2, 1, 0, 0, 2, 1, 1, 0, 1, 2, 0, 2, 1, 1,\n",
       "       1, 0, 1, 1, 1, 0, 2, 2, 1, 1, 0, 1, 0, 0, 1, 1, 0, 2, 1, 1, 0, 0,\n",
       "       1, 1, 1, 2, 1, 1, 0, 0, 1, 0, 2, 1, 1, 0, 0, 0, 0, 2, 1, 1, 1, 2,\n",
       "       0, 0, 0, 2, 2, 1, 1, 2, 1, 1, 1, 0, 1, 1, 1, 0, 1, 2, 2, 1, 2, 1,\n",
       "       1, 0, 0, 2, 0, 2, 0, 2, 1, 1, 1, 0, 1, 2, 1, 0, 1, 1, 0, 2, 0, 0,\n",
       "       1, 1, 0, 0, 0, 2, 1, 0, 0, 1, 0, 0, 1, 0, 2, 2, 1, 2, 0, 1, 0, 2,\n",
       "       0, 1, 1, 1, 1, 1])"
      ]
     },
     "execution_count": 18,
     "metadata": {},
     "output_type": "execute_result"
    }
   ],
   "source": [
    "# # predict test labels\n",
    "# predictions = model.predict(test_ds)\n",
    "# predicted_indices = tf.argmax(predictions, 1)\n",
    "# predicted_labels = predicted_indices.numpy()\n",
    "# predicted_labels"
   ]
  },
  {
   "cell_type": "code",
   "execution_count": 19,
   "metadata": {},
   "outputs": [],
   "source": [
    "# # save results\n",
    "# RESULT_SAVE_PATH = experiment_name + '_' + 'submission.csv'\n",
    "# img_ids = tfds.as_dataframe(test_ds_raw, test_info_raw)\n",
    "# save_results(RESULT_SAVE_PATH, img_ids, predicted_labels)"
   ]
  }
 ],
 "metadata": {
  "accelerator": "GPU",
  "colab": {
   "collapsed_sections": [],
   "name": "transfer_learning.ipynb",
   "toc_visible": true
  },
  "kernelspec": {
   "display_name": "Python 3",
   "language": "python",
   "name": "python3"
  },
  "language_info": {
   "codemirror_mode": {
    "name": "ipython",
    "version": 3
   },
   "file_extension": ".py",
   "mimetype": "text/x-python",
   "name": "python",
   "nbconvert_exporter": "python",
   "pygments_lexer": "ipython3",
   "version": "3.8.5-final"
  }
 },
 "nbformat": 4,
 "nbformat_minor": 4
}