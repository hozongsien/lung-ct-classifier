{
 "cells": [
  {
   "cell_type": "code",
   "execution_count": 1,
   "metadata": {
    "id": "TqOt6Sv7AsMi"
   },
   "outputs": [],
   "source": [
    "import matplotlib.pyplot as plt\n",
    "import numpy as np\n",
    "import os\n",
    "import tensorflow as tf\n",
    "import pandas as pd\n",
    "import sklearn as sk\n",
    "import tensorflow_addons as tfa\n",
    "\n",
    "\n",
    "from data_preprocessing import *\n",
    "from model import *\n",
    "from train import *\n",
    "from utils import *"
   ]
  },
  {
   "cell_type": "code",
   "execution_count": 2,
   "metadata": {},
   "outputs": [],
   "source": [
    "# pre pre-process images\n",
    "# python preprocess.py\n",
    "\n",
    "# Build dataset\n",
    "# python -m tensorflow_datasets.scripts.download_and_prepare --datasets=mri_dataset --module_import=datasets.mri_dataset --manual_dir=data/processed --data_dir=data/"
   ]
  },
  {
   "cell_type": "code",
   "execution_count": 3,
   "metadata": {},
   "outputs": [],
   "source": [
    "# def hist_norm(img):\n",
    "#     gray_img = cv.cvtColor(img, cv.COLOR_BGR2GRAY)\n",
    "#     norm_gray_img = cv.equalizeHist(gray_img)\n",
    "#     norm_img = cv.cvtColor(norm_gray_img, cv.COLOR_GRAY2RGB)\n",
    "#     return norm_img\n",
    "\n",
    "\n",
    "# def clahe(img, clipLimit=4, tileGridSize=(40, 40)):\n",
    "#     clahe = cv.createCLAHE(clipLimit, tileGridSize)\n",
    "#     gray_img = cv.cvtColor(img, cv.COLOR_BGR2GRAY)\n",
    "#     cl_img = clahe.apply(gray_img)\n",
    "#     cl_img = cv.cvtColor(cl_img, cv.COLOR_GRAY2RGB)\n",
    "#     return cl_img\n",
    "\n",
    "\n",
    "# data_folder = 'data'\n",
    "# raw_folder = 'raw'\n",
    "# processed_folder = 'processed'\n",
    "# dataset = 'mri_dataset'\n",
    "# train_folder = 'train'\n",
    "# test_folder = 'test'\n",
    "# train_label = 'train_label.csv'\n",
    "\n",
    "# img_path = os.path.join(data_folder, raw_folder, train_folder, '851.png')\n",
    "# img = cv.imread(img_path)\n",
    "# n_img = hist_norm(img)\n",
    "# clahe_img1 = clahe(img, clipLimit=8, tileGridSize=(32, 32))\n",
    "# clahe_img2 = clahe(img, clipLimit=8, tileGridSize=(8, 8))\n",
    "\n",
    "# # n_clahe_img = clahe(n_img, clipLimit=clip, tileGridSize=tile_size)\n",
    "# combined_imgs = np.hstack((img, clahe_img1, clahe_img2))\n",
    "# plt.figure(figsize=(20, 20))\n",
    "# plt.imshow(combined_imgs)"
   ]
  },
  {
   "cell_type": "markdown",
   "metadata": {},
   "source": [
    "## GPU and Mixed Precision Setup"
   ]
  },
  {
   "cell_type": "code",
   "execution_count": 4,
   "metadata": {},
   "outputs": [
    {
     "output_type": "stream",
     "name": "stdout",
     "text": [
      "WARNING:tensorflow:Mixed precision compatibility check (mixed_float16): WARNING\nSome of your GPUs may run slowly with dtype policy mixed_float16 because they do not all have compute capability of at least 7.0. Your GPUs:\n  Tesla V100S-PCIE-32GB, compute capability 7.0\n  Tesla V100-PCIE-32GB, compute capability 7.0\n  Tesla P100-PCIE-16GB, compute capability 6.0 (x2)\nSee https://developer.nvidia.com/cuda-gpus for a list of GPUs and their compute capabilities.\nIf you will use compatible GPU(s) not attached to this host, e.g. by running a multi-worker model, you can ignore this warning. This message will only be logged once\n"
     ]
    }
   ],
   "source": [
    "gpu_setup()\n",
    "mixed_precision_setup()"
   ]
  },
  {
   "cell_type": "markdown",
   "metadata": {},
   "source": [
    "## Load Dataset"
   ]
  },
  {
   "cell_type": "code",
   "execution_count": 5,
   "metadata": {},
   "outputs": [],
   "source": [
    "import tensorflow_datasets as tfds\n",
    "from datasets.mri_dataset import MriDataset\n",
    "from tensorflow.data import Dataset\n",
    "from tensorflow.keras.callbacks import TensorBoard\n",
    "\n",
    "\n",
    "data_folder = 'data'\n",
    "raw_folder = 'raw'\n",
    "processed_folder = 'processed'\n",
    "dataset = 'mri_dataset'\n",
    "train_folder = 'train'\n",
    "test_folder = 'test'\n",
    "train_label = 'train_label.csv'\n",
    "\n",
    "SEED = 0\n",
    "\n",
    "experiment_name = 'MobileNetV2'\n",
    "model_params = {\n",
    "    'image_shape': (512, 512, 3),\n",
    "    'num_classes': 3,\n",
    "}\n",
    "base_hyperparams = {\n",
    "    'train_batch_size': 64,\n",
    "    'valid_batch_size': 64,\n",
    "    'test_batch_size': 64,\n",
    "    'num_epochs': 1,\n",
    "    'learning_rate': 1e-4,\n",
    "    'dropout': 0.2\n",
    "}\n",
    "fine_hyperparams = {\n",
    "    'num_epochs': 1,\n",
    "    'learning_rate': 1e-5,\n",
    "    'fine_tune_at': 100,\n",
    "}\n",
    "\n",
    "tf.random.set_seed(SEED)\n",
    "\n",
    "train_folds = tfds.load(\n",
    "    name='mri_dataset', \n",
    "    split=[f'train[:{k}%]+train[{k+10}%:]' for k in range(0, 100, 20)],\n",
    "    download=False, \n",
    "    shuffle_files=False, \n",
    "    as_supervised=True,\n",
    "    data_dir=data_folder\n",
    ")\n",
    "valid_folds = tfds.load(\n",
    "    name='mri_dataset', \n",
    "    split=[f'train[{k}%:{k+10}%]' for k in range(0, 100, 20)],\n",
    "    download=False, \n",
    "    shuffle_files=False, \n",
    "    as_supervised=True,\n",
    "    data_dir=data_folder\n",
    ")\n",
    "test_ds_raw, test_info_raw = tfds.load(\n",
    "    name='mri_dataset', \n",
    "    split='test', \n",
    "    download=False, \n",
    "    shuffle_files=False, \n",
    "    as_supervised=False, \n",
    "    with_info=True,\n",
    "    data_dir=data_folder\n",
    ")\n",
    "\n",
    "train_folds = [ preprocess(ds, model_params, batch_size=base_hyperparams['train_batch_size'], ds_type='train') for ds in train_folds ]\n",
    "valid_folds = [ preprocess(ds, model_params, batch_size=base_hyperparams['valid_batch_size'], ds_type='valid') for ds in valid_folds ]\n",
    "test_ds = preprocess(test_ds_raw, model_params, batch_size=base_hyperparams['test_batch_size'], ds_type='test')"
   ]
  },
  {
   "cell_type": "code",
   "execution_count": 6,
   "metadata": {},
   "outputs": [
    {
     "output_type": "stream",
     "name": "stdout",
     "text": [
      "Number of train batches: 17\nNumber of valid batches: 2\nNumber of test batches: 5\n"
     ]
    }
   ],
   "source": [
    "train_valid_df = pd.read_csv(os.path.join(data_folder, processed_folder, train_label))\n",
    "train_ds = train_folds[0]\n",
    "valid_ds = valid_folds[0]\n",
    "\n",
    "print(f'Number of train batches: {train_ds.cardinality()}')\n",
    "print(f'Number of valid batches: {valid_ds.cardinality()}')\n",
    "print(f'Number of test batches: {test_ds.cardinality()}')"
   ]
  },
  {
   "cell_type": "markdown",
   "metadata": {},
   "source": [
    "## Visualise Dataset"
   ]
  },
  {
   "cell_type": "code",
   "execution_count": 7,
   "metadata": {
    "id": "K5BeQyKThC_Y"
   },
   "outputs": [],
   "source": [
    "# # disable image resize and rescale in preprocess function ONLY for visualisation\n",
    "# # Train Data\n",
    "# plt.figure(figsize=(10, 10))\n",
    "# for images, labels in train_ds.take(9):\n",
    "#     for i in range(9):\n",
    "#       ax = plt.subplot(3, 3, i + 1)\n",
    "#       plt.imshow(images[i].numpy().astype(\"uint8\"))\n",
    "#       plt.title(labels[i].numpy())\n",
    "#       plt.axis(\"off\")"
   ]
  },
  {
   "cell_type": "code",
   "execution_count": 8,
   "metadata": {},
   "outputs": [],
   "source": [
    "# # Test Data\n",
    "# plt.figure(figsize=(10, 10))\n",
    "# for i, ds in enumerate(test_ds_raw.take(9)):\n",
    "#     ax = plt.subplot(3, 3, i + 1)\n",
    "#     plt.imshow(ds['image'].numpy().astype(\"uint8\"))\n",
    "#     plt.title('ID: {}'.format(ds['id'].numpy()))\n",
    "#     plt.axis(\"off\")"
   ]
  },
  {
   "cell_type": "code",
   "execution_count": 9,
   "metadata": {
    "id": "aQullOUHkm67"
   },
   "outputs": [],
   "source": [
    "# TODO: Fix visualisation\n",
    "# data_augmentation = create_augmentation_layer()\n",
    "\n",
    "# for image, _ in train_ds.take(1):\n",
    "#   plt.figure(figsize=(10, 10))\n",
    "#   first_image = image[0]\n",
    "#   for i in range(9):\n",
    "#     ax = plt.subplot(3, 3, i + 1)\n",
    "#     augmented_image = data_augmentation(tf.expand_dims(first_image, 0))\n",
    "#     plt.imshow(augmented_image[0] / 255)\n",
    "#     plt.axis('off')"
   ]
  },
  {
   "cell_type": "markdown",
   "metadata": {},
   "source": [
    "## Train and Validate"
   ]
  },
  {
   "source": [
    "### Feature Extraction + Fine Tuning"
   ],
   "cell_type": "markdown",
   "metadata": {}
  },
  {
   "cell_type": "code",
   "execution_count": 10,
   "metadata": {},
   "outputs": [
    {
     "output_type": "stream",
     "name": "stdout",
     "text": [
      "WARNING:tensorflow:`input_shape` is undefined or non-square, or `rows` is not in [96, 128, 160, 192, 224]. Weights for input shape (224, 224) will be loaded as the default.\n",
      "WARNING:tensorflow:`input_shape` is undefined or non-square, or `rows` is not in [96, 128, 160, 192, 224]. Weights for input shape (224, 224) will be loaded as the default.\n",
      " 1/17 [>.............................] - ETA: 0s - loss: 1.3575 - accuracy: 0.1719WARNING:tensorflow:From /home/zongsien/MedicalImageClassifier/env/lib/python3.7/site-packages/tensorflow/python/ops/summary_ops_v2.py:1277: stop (from tensorflow.python.eager.profiler) is deprecated and will be removed after 2020-07-01.\n",
      "Instructions for updating:\n",
      "use `tf.profiler.experimental.stop` instead.\n",
      "WARNING:tensorflow:From /home/zongsien/MedicalImageClassifier/env/lib/python3.7/site-packages/tensorflow/python/ops/summary_ops_v2.py:1277: stop (from tensorflow.python.eager.profiler) is deprecated and will be removed after 2020-07-01.\n",
      "Instructions for updating:\n",
      "use `tf.profiler.experimental.stop` instead.\n",
      "17/17 [==============================] - 9s 549ms/step - loss: 1.2483 - accuracy: 0.2681 - val_loss: 1.0950 - val_accuracy: 0.4224\n",
      "Number of layers in the base model:  155\n",
      "Epoch 2/2\n",
      " 2/17 [==>...........................] - ETA: 4s - loss: 1.1430 - accuracy: 0.3672WARNING:tensorflow:Callbacks method `on_train_batch_end` is slow compared to the batch time (batch time: 0.1476s vs `on_train_batch_end` time: 0.4643s). Check your callbacks.\n",
      "WARNING:tensorflow:Callbacks method `on_train_batch_end` is slow compared to the batch time (batch time: 0.1476s vs `on_train_batch_end` time: 0.4643s). Check your callbacks.\n",
      "17/17 [==============================] - 6s 349ms/step - loss: 0.9315 - accuracy: 0.5573 - val_loss: 0.7559 - val_accuracy: 0.6983\n"
     ]
    }
   ],
   "source": [
    "tf.random.set_seed(SEED)\n",
    "\n",
    "model = feature_extract_and_fine_tune(experiment_name, train_ds, valid_ds, model_params, base_hyperparams, fine_hyperparams)"
   ]
  },
  {
   "source": [
    "### K-Fold Cross Validation"
   ],
   "cell_type": "markdown",
   "metadata": {}
  },
  {
   "cell_type": "code",
   "execution_count": 11,
   "metadata": {
    "tags": [
     "outputPrepend"
    ]
   },
   "outputs": [
    {
     "output_type": "stream",
     "name": "stdout",
     "text": [
      "Loss: 0.9352759718894958 | Train Accuracy: 0.5658397078514099 | Validation Loss: 0.772611677646637 | Validation Accuracy: 0.681034505367279\n",
      "\n",
      "# -------------------- MobileNetV2: 2-fold -------------------- #\n",
      "WARNING:tensorflow:`input_shape` is undefined or non-square, or `rows` is not in [96, 128, 160, 192, 224]. Weights for input shape (224, 224) will be loaded as the default.\n",
      "WARNING:tensorflow:`input_shape` is undefined or non-square, or `rows` is not in [96, 128, 160, 192, 224]. Weights for input shape (224, 224) will be loaded as the default.\n",
      " 2/17 [==>...........................] - ETA: 9s - loss: 1.1472 - accuracy: 0.4766WARNING:tensorflow:Callbacks method `on_train_batch_end` is slow compared to the batch time (batch time: 0.3750s vs `on_train_batch_end` time: 0.8445s). Check your callbacks.\n",
      "WARNING:tensorflow:Callbacks method `on_train_batch_end` is slow compared to the batch time (batch time: 0.3750s vs `on_train_batch_end` time: 0.8445s). Check your callbacks.\n",
      "16/17 [===========================>..] - ETA: 0s - loss: 1.1142 - accuracy: 0.4580WARNING:tensorflow:5 out of the last 9 calls to <function Model.make_test_function.<locals>.test_function at 0x7fd4766a80e0> triggered tf.function retracing. Tracing is expensive and the excessive number of tracings could be due to (1) creating @tf.function repeatedly in a loop, (2) passing tensors with different shapes, (3) passing Python objects instead of tensors. For (1), please define your @tf.function outside of the loop. For (2), @tf.function has experimental_relax_shapes=True option that relaxes argument shapes that can avoid unnecessary retracing. For (3), please refer to https://www.tensorflow.org/tutorials/customization/performance#python_or_tensor_args and https://www.tensorflow.org/api_docs/python/tf/function for  more details.\n",
      "WARNING:tensorflow:5 out of the last 9 calls to <function Model.make_test_function.<locals>.test_function at 0x7fd4766a80e0> triggered tf.function retracing. Tracing is expensive and the excessive number of tracings could be due to (1) creating @tf.function repeatedly in a loop, (2) passing tensors with different shapes, (3) passing Python objects instead of tensors. For (1), please define your @tf.function outside of the loop. For (2), @tf.function has experimental_relax_shapes=True option that relaxes argument shapes that can avoid unnecessary retracing. For (3), please refer to https://www.tensorflow.org/tutorials/customization/performance#python_or_tensor_args and https://www.tensorflow.org/api_docs/python/tf/function for  more details.\n",
      "17/17 [==============================] - 4s 241ms/step - loss: 1.1118 - accuracy: 0.4580 - val_loss: 1.1119 - val_accuracy: 0.4569\n",
      "Number of layers in the base model:  155\n",
      "Epoch 2/2\n",
      " 2/17 [==>...........................] - ETA: 12s - loss: 1.0575 - accuracy: 0.4375WARNING:tensorflow:Callbacks method `on_train_batch_end` is slow compared to the batch time (batch time: 0.4941s vs `on_train_batch_end` time: 1.1792s). Check your callbacks.\n",
      "WARNING:tensorflow:Callbacks method `on_train_batch_end` is slow compared to the batch time (batch time: 0.4941s vs `on_train_batch_end` time: 1.1792s). Check your callbacks.\n",
      "17/17 [==============================] - ETA: 0s - loss: 0.8662 - accuracy: 0.6345WARNING:tensorflow:6 out of the last 11 calls to <function Model.make_test_function.<locals>.test_function at 0x7fd47376ba70> triggered tf.function retracing. Tracing is expensive and the excessive number of tracings could be due to (1) creating @tf.function repeatedly in a loop, (2) passing tensors with different shapes, (3) passing Python objects instead of tensors. For (1), please define your @tf.function outside of the loop. For (2), @tf.function has experimental_relax_shapes=True option that relaxes argument shapes that can avoid unnecessary retracing. For (3), please refer to https://www.tensorflow.org/tutorials/customization/performance#python_or_tensor_args and https://www.tensorflow.org/api_docs/python/tf/function for  more details.\n",
      "WARNING:tensorflow:6 out of the last 11 calls to <function Model.make_test_function.<locals>.test_function at 0x7fd47376ba70> triggered tf.function retracing. Tracing is expensive and the excessive number of tracings could be due to (1) creating @tf.function repeatedly in a loop, (2) passing tensors with different shapes, (3) passing Python objects instead of tensors. For (1), please define your @tf.function outside of the loop. For (2), @tf.function has experimental_relax_shapes=True option that relaxes argument shapes that can avoid unnecessary retracing. For (3), please refer to https://www.tensorflow.org/tutorials/customization/performance#python_or_tensor_args and https://www.tensorflow.org/api_docs/python/tf/function for  more details.\n",
      "17/17 [==============================] - 5s 306ms/step - loss: 0.8662 - accuracy: 0.6345 - val_loss: 0.7586 - val_accuracy: 0.6724\n",
      "MobileNetV2 | Train Loss: 0.8662073612213135 | Train Accuracy: 0.6345419883728027 | Validation Loss: 0.75861656665802 | Validation Accuracy: 0.6724137663841248\n",
      "\n",
      "# -------------------- MobileNetV2: 3-fold -------------------- #\n",
      "WARNING:tensorflow:`input_shape` is undefined or non-square, or `rows` is not in [96, 128, 160, 192, 224]. Weights for input shape (224, 224) will be loaded as the default.\n",
      "WARNING:tensorflow:`input_shape` is undefined or non-square, or `rows` is not in [96, 128, 160, 192, 224]. Weights for input shape (224, 224) will be loaded as the default.\n",
      " 2/17 [==>...........................] - ETA: 6s - loss: 1.2474 - accuracy: 0.2344WARNING:tensorflow:Callbacks method `on_train_batch_end` is slow compared to the batch time (batch time: 0.1221s vs `on_train_batch_end` time: 0.7809s). Check your callbacks.\n",
      "WARNING:tensorflow:Callbacks method `on_train_batch_end` is slow compared to the batch time (batch time: 0.1221s vs `on_train_batch_end` time: 0.7809s). Check your callbacks.\n",
      "16/17 [===========================>..] - ETA: 0s - loss: 1.2034 - accuracy: 0.3125WARNING:tensorflow:6 out of the last 11 calls to <function Model.make_test_function.<locals>.test_function at 0x7fd46e24e170> triggered tf.function retracing. Tracing is expensive and the excessive number of tracings could be due to (1) creating @tf.function repeatedly in a loop, (2) passing tensors with different shapes, (3) passing Python objects instead of tensors. For (1), please define your @tf.function outside of the loop. For (2), @tf.function has experimental_relax_shapes=True option that relaxes argument shapes that can avoid unnecessary retracing. For (3), please refer to https://www.tensorflow.org/tutorials/customization/performance#python_or_tensor_args and https://www.tensorflow.org/api_docs/python/tf/function for  more details.\n",
      "WARNING:tensorflow:6 out of the last 11 calls to <function Model.make_test_function.<locals>.test_function at 0x7fd46e24e170> triggered tf.function retracing. Tracing is expensive and the excessive number of tracings could be due to (1) creating @tf.function repeatedly in a loop, (2) passing tensors with different shapes, (3) passing Python objects instead of tensors. For (1), please define your @tf.function outside of the loop. For (2), @tf.function has experimental_relax_shapes=True option that relaxes argument shapes that can avoid unnecessary retracing. For (3), please refer to https://www.tensorflow.org/tutorials/customization/performance#python_or_tensor_args and https://www.tensorflow.org/api_docs/python/tf/function for  more details.\n",
      "17/17 [==============================] - 4s 209ms/step - loss: 1.2059 - accuracy: 0.3101 - val_loss: 1.1845 - val_accuracy: 0.3966\n",
      "Number of layers in the base model:  155\n",
      "Epoch 2/2\n",
      " 2/17 [==>...........................] - ETA: 6s - loss: 1.1279 - accuracy: 0.4219WARNING:tensorflow:Callbacks method `on_train_batch_end` is slow compared to the batch time (batch time: 0.1600s vs `on_train_batch_end` time: 0.7021s). Check your callbacks.\n",
      "WARNING:tensorflow:Callbacks method `on_train_batch_end` is slow compared to the batch time (batch time: 0.1600s vs `on_train_batch_end` time: 0.7021s). Check your callbacks.\n",
      "17/17 [==============================] - ETA: 0s - loss: 0.9138 - accuracy: 0.6031WARNING:tensorflow:6 out of the last 11 calls to <function Model.make_test_function.<locals>.test_function at 0x7fd46974cb90> triggered tf.function retracing. Tracing is expensive and the excessive number of tracings could be due to (1) creating @tf.function repeatedly in a loop, (2) passing tensors with different shapes, (3) passing Python objects instead of tensors. For (1), please define your @tf.function outside of the loop. For (2), @tf.function has experimental_relax_shapes=True option that relaxes argument shapes that can avoid unnecessary retracing. For (3), please refer to https://www.tensorflow.org/tutorials/customization/performance#python_or_tensor_args and https://www.tensorflow.org/api_docs/python/tf/function for  more details.\n",
      "WARNING:tensorflow:6 out of the last 11 calls to <function Model.make_test_function.<locals>.test_function at 0x7fd46974cb90> triggered tf.function retracing. Tracing is expensive and the excessive number of tracings could be due to (1) creating @tf.function repeatedly in a loop, (2) passing tensors with different shapes, (3) passing Python objects instead of tensors. For (1), please define your @tf.function outside of the loop. For (2), @tf.function has experimental_relax_shapes=True option that relaxes argument shapes that can avoid unnecessary retracing. For (3), please refer to https://www.tensorflow.org/tutorials/customization/performance#python_or_tensor_args and https://www.tensorflow.org/api_docs/python/tf/function for  more details.\n",
      "17/17 [==============================] - 4s 236ms/step - loss: 0.9138 - accuracy: 0.6031 - val_loss: 0.7702 - val_accuracy: 0.7586\n",
      "MobileNetV2 | Train Loss: 0.9137934446334839 | Train Accuracy: 0.6030534505844116 | Validation Loss: 0.7702316045761108 | Validation Accuracy: 0.7586206793785095\n",
      "\n",
      "# -------------------- MobileNetV2: 4-fold -------------------- #\n",
      "WARNING:tensorflow:`input_shape` is undefined or non-square, or `rows` is not in [96, 128, 160, 192, 224]. Weights for input shape (224, 224) will be loaded as the default.\n",
      "WARNING:tensorflow:`input_shape` is undefined or non-square, or `rows` is not in [96, 128, 160, 192, 224]. Weights for input shape (224, 224) will be loaded as the default.\n",
      " 2/17 [==>...........................] - ETA: 7s - loss: 1.5936 - accuracy: 0.1875WARNING:tensorflow:Callbacks method `on_train_batch_end` is slow compared to the batch time (batch time: 0.1061s vs `on_train_batch_end` time: 0.9107s). Check your callbacks.\n",
      "WARNING:tensorflow:Callbacks method `on_train_batch_end` is slow compared to the batch time (batch time: 0.1061s vs `on_train_batch_end` time: 0.9107s). Check your callbacks.\n",
      "17/17 [==============================] - ETA: 0s - loss: 1.3705 - accuracy: 0.2426WARNING:tensorflow:6 out of the last 11 calls to <function Model.make_test_function.<locals>.test_function at 0x7fd4646af320> triggered tf.function retracing. Tracing is expensive and the excessive number of tracings could be due to (1) creating @tf.function repeatedly in a loop, (2) passing tensors with different shapes, (3) passing Python objects instead of tensors. For (1), please define your @tf.function outside of the loop. For (2), @tf.function has experimental_relax_shapes=True option that relaxes argument shapes that can avoid unnecessary retracing. For (3), please refer to https://www.tensorflow.org/tutorials/customization/performance#python_or_tensor_args and https://www.tensorflow.org/api_docs/python/tf/function for  more details.\n",
      "WARNING:tensorflow:6 out of the last 11 calls to <function Model.make_test_function.<locals>.test_function at 0x7fd4646af320> triggered tf.function retracing. Tracing is expensive and the excessive number of tracings could be due to (1) creating @tf.function repeatedly in a loop, (2) passing tensors with different shapes, (3) passing Python objects instead of tensors. For (1), please define your @tf.function outside of the loop. For (2), @tf.function has experimental_relax_shapes=True option that relaxes argument shapes that can avoid unnecessary retracing. For (3), please refer to https://www.tensorflow.org/tutorials/customization/performance#python_or_tensor_args and https://www.tensorflow.org/api_docs/python/tf/function for  more details.\n",
      "17/17 [==============================] - 10s 567ms/step - loss: 1.3705 - accuracy: 0.2426 - val_loss: 1.1615 - val_accuracy: 0.4444\n",
      "Number of layers in the base model:  155\n",
      "Epoch 2/2\n",
      " 2/17 [==>...........................] - ETA: 9s - loss: 1.2623 - accuracy: 0.2734WARNING:tensorflow:Callbacks method `on_train_batch_end` is slow compared to the batch time (batch time: 0.1756s vs `on_train_batch_end` time: 1.1048s). Check your callbacks.\n",
      "WARNING:tensorflow:Callbacks method `on_train_batch_end` is slow compared to the batch time (batch time: 0.1756s vs `on_train_batch_end` time: 1.1048s). Check your callbacks.\n",
      "17/17 [==============================] - ETA: 0s - loss: 0.9815 - accuracy: 0.5167WARNING:tensorflow:6 out of the last 11 calls to <function Model.make_test_function.<locals>.test_function at 0x7fd45f49af80> triggered tf.function retracing. Tracing is expensive and the excessive number of tracings could be due to (1) creating @tf.function repeatedly in a loop, (2) passing tensors with different shapes, (3) passing Python objects instead of tensors. For (1), please define your @tf.function outside of the loop. For (2), @tf.function has experimental_relax_shapes=True option that relaxes argument shapes that can avoid unnecessary retracing. For (3), please refer to https://www.tensorflow.org/tutorials/customization/performance#python_or_tensor_args and https://www.tensorflow.org/api_docs/python/tf/function for  more details.\n",
      "WARNING:tensorflow:6 out of the last 11 calls to <function Model.make_test_function.<locals>.test_function at 0x7fd45f49af80> triggered tf.function retracing. Tracing is expensive and the excessive number of tracings could be due to (1) creating @tf.function repeatedly in a loop, (2) passing tensors with different shapes, (3) passing Python objects instead of tensors. For (1), please define your @tf.function outside of the loop. For (2), @tf.function has experimental_relax_shapes=True option that relaxes argument shapes that can avoid unnecessary retracing. For (3), please refer to https://www.tensorflow.org/tutorials/customization/performance#python_or_tensor_args and https://www.tensorflow.org/api_docs/python/tf/function for  more details.\n",
      "17/17 [==============================] - 5s 321ms/step - loss: 0.9815 - accuracy: 0.5167 - val_loss: 0.8221 - val_accuracy: 0.6581\n",
      "MobileNetV2 | Train Loss: 0.9814920425415039 | Train Accuracy: 0.5167143940925598 | Validation Loss: 0.8220709562301636 | Validation Accuracy: 0.6581196784973145\n",
      "\n",
      "# -------------------- MobileNetV2: 5-fold -------------------- #\n",
      "WARNING:tensorflow:`input_shape` is undefined or non-square, or `rows` is not in [96, 128, 160, 192, 224]. Weights for input shape (224, 224) will be loaded as the default.\n",
      "WARNING:tensorflow:`input_shape` is undefined or non-square, or `rows` is not in [96, 128, 160, 192, 224]. Weights for input shape (224, 224) will be loaded as the default.\n",
      " 2/17 [==>...........................] - ETA: 6s - loss: 1.1301 - accuracy: 0.3906WARNING:tensorflow:Callbacks method `on_train_batch_end` is slow compared to the batch time (batch time: 0.1428s vs `on_train_batch_end` time: 0.7374s). Check your callbacks.\n",
      "WARNING:tensorflow:Callbacks method `on_train_batch_end` is slow compared to the batch time (batch time: 0.1428s vs `on_train_batch_end` time: 0.7374s). Check your callbacks.\n",
      "16/17 [===========================>..] - ETA: 0s - loss: 1.1278 - accuracy: 0.3877WARNING:tensorflow:6 out of the last 11 calls to <function Model.make_test_function.<locals>.test_function at 0x7fd45a688050> triggered tf.function retracing. Tracing is expensive and the excessive number of tracings could be due to (1) creating @tf.function repeatedly in a loop, (2) passing tensors with different shapes, (3) passing Python objects instead of tensors. For (1), please define your @tf.function outside of the loop. For (2), @tf.function has experimental_relax_shapes=True option that relaxes argument shapes that can avoid unnecessary retracing. For (3), please refer to https://www.tensorflow.org/tutorials/customization/performance#python_or_tensor_args and https://www.tensorflow.org/api_docs/python/tf/function for  more details.\n",
      "WARNING:tensorflow:6 out of the last 11 calls to <function Model.make_test_function.<locals>.test_function at 0x7fd45a688050> triggered tf.function retracing. Tracing is expensive and the excessive number of tracings could be due to (1) creating @tf.function repeatedly in a loop, (2) passing tensors with different shapes, (3) passing Python objects instead of tensors. For (1), please define your @tf.function outside of the loop. For (2), @tf.function has experimental_relax_shapes=True option that relaxes argument shapes that can avoid unnecessary retracing. For (3), please refer to https://www.tensorflow.org/tutorials/customization/performance#python_or_tensor_args and https://www.tensorflow.org/api_docs/python/tf/function for  more details.\n",
      "17/17 [==============================] - 3s 204ms/step - loss: 1.1245 - accuracy: 0.3887 - val_loss: 1.0628 - val_accuracy: 0.4530\n",
      "Number of layers in the base model:  155\n",
      "Epoch 2/2\n",
      " 2/17 [==>...........................] - ETA: 10s - loss: 1.0551 - accuracy: 0.5078WARNING:tensorflow:Callbacks method `on_train_batch_end` is slow compared to the batch time (batch time: 0.1890s vs `on_train_batch_end` time: 1.1940s). Check your callbacks.\n",
      "WARNING:tensorflow:Callbacks method `on_train_batch_end` is slow compared to the batch time (batch time: 0.1890s vs `on_train_batch_end` time: 1.1940s). Check your callbacks.\n",
      "17/17 [==============================] - ETA: 0s - loss: 0.8875 - accuracy: 0.5922WARNING:tensorflow:6 out of the last 11 calls to <function Model.make_test_function.<locals>.test_function at 0x7fd455955f80> triggered tf.function retracing. Tracing is expensive and the excessive number of tracings could be due to (1) creating @tf.function repeatedly in a loop, (2) passing tensors with different shapes, (3) passing Python objects instead of tensors. For (1), please define your @tf.function outside of the loop. For (2), @tf.function has experimental_relax_shapes=True option that relaxes argument shapes that can avoid unnecessary retracing. For (3), please refer to https://www.tensorflow.org/tutorials/customization/performance#python_or_tensor_args and https://www.tensorflow.org/api_docs/python/tf/function for  more details.\n",
      "WARNING:tensorflow:6 out of the last 11 calls to <function Model.make_test_function.<locals>.test_function at 0x7fd455955f80> triggered tf.function retracing. Tracing is expensive and the excessive number of tracings could be due to (1) creating @tf.function repeatedly in a loop, (2) passing tensors with different shapes, (3) passing Python objects instead of tensors. For (1), please define your @tf.function outside of the loop. For (2), @tf.function has experimental_relax_shapes=True option that relaxes argument shapes that can avoid unnecessary retracing. For (3), please refer to https://www.tensorflow.org/tutorials/customization/performance#python_or_tensor_args and https://www.tensorflow.org/api_docs/python/tf/function for  more details.\n",
      "17/17 [==============================] - 5s 296ms/step - loss: 0.8875 - accuracy: 0.5922 - val_loss: 0.7193 - val_accuracy: 0.7692\n",
      "MobileNetV2 | Train Loss: 0.8874511122703552 | Train Accuracy: 0.5921680927276611 | Validation Loss: 0.7192931175231934 | Validation Accuracy: 0.7692307829856873\n",
      "\n",
      "Avg Train Loss: 0.8874511122703552 | Avg Train Accuracy: 0.5824635267257691 | Avg Validation Loss: 0.7192931175231934 | Avg Validation Accuracy: 0.707883882522583\n",
      "\n"
     ]
    }
   ],
   "source": [
    "tf.random.set_seed(SEED)\n",
    "\n",
    "models = cross_validate(experiment_name, train_folds, valid_folds, model_params, base_hyperparams, fine_hyperparams)\n",
    "#     print('Saving model\\n')\n",
    "#     filename = os.path.join('models', experiment_name, '.h5')\n",
    "#     model.save(filename)"
   ]
  },
  {
   "cell_type": "code",
   "execution_count": 12,
   "metadata": {},
   "outputs": [],
   "source": [
    "# tf.random.set_seed(SEED)\n",
    "# hyperparams = {\n",
    "#     'initial_epochs': 150,\n",
    "#     'learning_rate': 1e-4,\n",
    "#     'label_smoothing': 0.1,\n",
    "# }\n",
    "# experiment_name = f'Ensemble02'\n",
    "\n",
    "\n",
    "# ensemble_model = create_ensemble_model()\n",
    "# train_ds = ensemble_input(train_folds[3], ds_type='train')\n",
    "# valid_ds = ensemble_input(valid_folds[3], ds_type='valid')\n",
    "# ensemble_model = train_validate(ensemble_model, train_ds, valid_ds, hyperparams, experiment_name)\n"
   ]
  },
  {
   "cell_type": "code",
   "execution_count": 13,
   "metadata": {},
   "outputs": [],
   "source": [
    "# test_ds = ensemble_input(test_ds, ds_type='train')\n",
    "# predictions = ensemble_model.predict(test_ds)\n",
    "# predicted_indices = tf.argmax(predictions, 1)\n",
    "# predicted_labels = predicted_indices.numpy()\n",
    "# img_ids = tfds.as_dataframe(test_ds_raw, test_info_raw)\n",
    "# save_results('Ensemble02_submission.csv', img_ids, predicted_labels)\n",
    "# print('done')"
   ]
  },
  {
   "cell_type": "markdown",
   "metadata": {
    "id": "R6cWgjgfrsn5"
   },
   "source": [
    "## Predict"
   ]
  },
  {
   "cell_type": "code",
   "execution_count": 14,
   "metadata": {
    "id": "RUNoQNgtfNgt"
   },
   "outputs": [],
   "source": [
    "# TODO: analyse predicted results\n",
    "# image_batch, label_batch = valid_ds.as_numpy_iterator().next()\n",
    "# predictions = model.predict_on_batch(image_batch)\n",
    "# predicted_indices = tf.argmax(predictions, 1)\n",
    "# predicted_labels = predicted_indices.numpy()\n",
    "\n",
    "\n",
    "# plt.figure(figsize=(10, 10))\n",
    "# for i in range(9):\n",
    "#   ax = plt.subplot(3, 3, i + 1)\n",
    "#   plt.imshow(image_batch[i].astype(\"uint8\"))\n",
    "#   plt.title(f'pred: {predicted_labels[i]} true: {label_batch[i]}')\n",
    "#   plt.axis(\"off\")"
   ]
  },
  {
   "cell_type": "markdown",
   "metadata": {},
   "source": [
    "## Evaluate"
   ]
  },
  {
   "cell_type": "code",
   "execution_count": 15,
   "metadata": {},
   "outputs": [
    {
     "output_type": "execute_result",
     "data": {
      "text/plain": [
       "array([2, 1, 1, 1, 2, 1, 1, 1, 0, 2, 1, 1, 1, 1, 1, 2, 2, 1, 1, 1, 1, 1,\n",
       "       1, 0, 1, 1, 1, 1, 2, 1, 1, 1, 2, 0, 1, 0, 2, 0, 1, 2, 1, 1, 2, 2,\n",
       "       0, 1, 2, 2, 2, 0, 1, 1, 1, 1, 1, 1, 2, 2, 1, 2, 0, 2, 1, 0, 2, 1,\n",
       "       1, 1, 0, 1, 1, 1, 1, 1, 1, 1, 2, 1, 2, 0, 0, 1, 1, 2, 0, 0, 1, 1,\n",
       "       2, 1, 0, 2, 2, 0, 1, 0, 2, 0, 2, 1, 0, 1, 2, 1, 0, 1, 0, 0, 2, 1,\n",
       "       1, 1, 2, 0, 0, 2, 2, 1, 1, 1, 1, 1, 2, 2, 1, 0, 2, 1, 1, 1, 2, 1,\n",
       "       1, 1, 2, 1, 1, 1, 2, 0, 2, 1, 2, 1, 1, 1, 2, 2, 2, 1, 2, 1, 1, 2,\n",
       "       1, 0, 2, 0, 1, 2, 0, 1, 2, 1, 0, 1, 2, 1, 1, 0, 1, 2, 0, 2, 1, 1,\n",
       "       1, 1, 1, 1, 0, 1, 2, 1, 1, 1, 1, 1, 0, 1, 1, 1, 1, 2, 0, 1, 1, 1,\n",
       "       1, 1, 1, 2, 1, 1, 2, 1, 1, 1, 2, 1, 0, 0, 0, 1, 1, 2, 1, 1, 1, 2,\n",
       "       2, 1, 2, 2, 2, 1, 1, 2, 1, 1, 1, 1, 1, 1, 1, 1, 0, 2, 2, 1, 2, 1,\n",
       "       1, 1, 0, 2, 1, 2, 1, 2, 1, 1, 1, 1, 1, 2, 1, 0, 1, 1, 1, 2, 0, 1,\n",
       "       0, 1, 0, 1, 1, 2, 1, 1, 0, 1, 2, 1, 1, 1, 2, 2, 1, 2, 1, 1, 1, 2,\n",
       "       1, 2, 1, 1, 1, 1])"
      ]
     },
     "metadata": {},
     "execution_count": 15
    }
   ],
   "source": [
    "# predict test labels\n",
    "predicted_labels = evaluate(model, test_ds)\n",
    "predicted_labels"
   ]
  },
  {
   "cell_type": "code",
   "execution_count": 16,
   "metadata": {},
   "outputs": [],
   "source": [
    "result_save_path = experiment_name + '_' + 'submission.csv'\n",
    "img_ids = tfds.as_dataframe(test_ds_raw, test_info_raw)\n",
    "save_results(img_ids, predicted_labels, result_save_path)"
   ]
  },
  {
   "source": [
    "# main.py"
   ],
   "cell_type": "markdown",
   "metadata": {}
  },
  {
   "cell_type": "code",
   "execution_count": 17,
   "metadata": {},
   "outputs": [],
   "source": [
    "# enhance images\n",
    "# create dataset\n",
    "# load data\n",
    "# train\n",
    "# evaluate"
   ]
  }
 ],
 "metadata": {
  "accelerator": "GPU",
  "colab": {
   "collapsed_sections": [],
   "name": "transfer_learning.ipynb",
   "toc_visible": true
  },
  "kernelspec": {
   "display_name": "Python 3",
   "language": "python",
   "name": "python3"
  },
  "language_info": {
   "codemirror_mode": {
    "name": "ipython",
    "version": 3
   },
   "file_extension": ".py",
   "mimetype": "text/x-python",
   "name": "python",
   "nbconvert_exporter": "python",
   "pygments_lexer": "ipython3",
   "version": "3.8.5-final"
  }
 },
 "nbformat": 4,
 "nbformat_minor": 4
}